{
 "cells": [
  {
   "cell_type": "code",
   "execution_count": null,
   "metadata": {},
   "outputs": [],
   "source": [
    "# Import section\n",
    "import ads\n"
   ]
  },
  {
   "cell_type": "markdown",
   "metadata": {},
   "source": [
    "# More Markdown"
   ]
  },
  {
   "cell_type": "code",
   "execution_count": null,
   "id": "premier-horror",
   "metadata": {},
   "outputs": [],
   "source": [
    "print(ads.__version__)"
   ]
  }
 ],
 "metadata": {
  "kernelspec": {
   "display_name": "advanced-ds",
   "language": "python",
   "name": "python3"
  },
  "language_info": {
   "codemirror_mode": {
    "name": "ipython",
    "version": 3
   },
   "file_extension": ".py",
   "mimetype": "text/x-python",
   "name": "python",
   "nbconvert_exporter": "python",
   "pygments_lexer": "ipython3",
   "version": "3.8.13"
  },
  "vscode": {
   "interpreter": {
    "hash": "befcbaf13dc629d2a291d651dbccffd20a6370923c026e54da40b794c2f610da"
   }
  }
 },
 "nbformat": 4,
 "nbformat_minor": 5
}
