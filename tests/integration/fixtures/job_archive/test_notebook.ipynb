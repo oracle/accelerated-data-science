{
 "cells": [
  {
   "cell_type": "code",
   "execution_count": null,
   "metadata": {},
   "outputs": [],
   "source": [
    "import datetime\n",
    "import os\n",
    "import sys\n",
    "import ads\n",
    "from my_package import utils\n",
    "from my_module import my_function_in_module\n"
   ]
  },
  {
   "cell_type": "code",
   "execution_count": null,
   "metadata": {},
   "outputs": [],
   "source": [
    "print(\"This is the test notebook.\")"
   ]
  },
  {
   "cell_type": "code",
   "execution_count": null,
   "metadata": {},
   "outputs": [],
   "source": [
    "ads.__version__"
   ]
  },
  {
   "cell_type": "code",
   "execution_count": null,
   "metadata": {},
   "outputs": [],
   "source": [
    "def write_output(filename):\n",
    "    os.mkdir(\"outputs\")\n",
    "    print(f\"Writing {os.path.abspath(filename)}...\")\n",
    "    with open(filename, \"w\") as f:\n",
    "        f.write(datetime.datetime.now().strftime(\"%Y%m%d_%H%M%s.txt\"))"
   ]
  },
  {
   "cell_type": "code",
   "execution_count": null,
   "metadata": {},
   "outputs": [],
   "source": [
    "if len(sys.argv) > 1:\n",
    "    print(sys.argv[1:])\n",
    "\n",
    "print(os.getcwd())\n",
    "\n",
    "my_function_in_module()\n",
    "utils.my_function_in_package()\n",
    "\n",
    "write_output(\"outputs/python_test.txt\")"
   ]
  }
 ],
 "metadata": {
  "kernelspec": {
   "display_name": "advanced-ds",
   "language": "python",
   "name": "python3"
  },
  "language_info": {
   "name": "python",
   "version": "3.8.13"
  },
  "orig_nbformat": 4,
  "vscode": {
   "interpreter": {
    "hash": "befcbaf13dc629d2a291d651dbccffd20a6370923c026e54da40b794c2f610da"
   }
  }
 },
 "nbformat": 4,
 "nbformat_minor": 2
}
