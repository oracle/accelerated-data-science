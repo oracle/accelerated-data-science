{
 "cells": [
  {
   "cell_type": "code",
   "execution_count": 3,
   "id": "ed5cb491",
   "metadata": {},
   "outputs": [
    {
     "data": {
      "text/plain": [
       "8"
      ]
     },
     "execution_count": 3,
     "metadata": {},
     "output_type": "execute_result"
    }
   ],
   "source": [
    "a = 1 + 1\n",
    "a * 4"
   ]
  },
  {
   "cell_type": "markdown",
   "id": "f1c54fe9",
   "metadata": {},
   "source": [
    "this is markdown\n",
    "multiline"
   ]
  },
  {
   "cell_type": "code",
   "execution_count": null,
   "id": "84afde0f",
   "metadata": {},
   "outputs": [],
   "source": [
    "print('test')\n",
    "print('hello')"
   ]
  },
  {
   "cell_type": "code",
   "execution_count": null,
   "id": "7cb37e67",
   "metadata": {
    "tags": [
     "remove"
    ]
   },
   "outputs": [],
   "source": [
    "# This should be an error\n",
    "printf(\"ignore\")"
   ]
  },
  {
   "cell_type": "code",
   "execution_count": null,
   "id": "46f7e59e",
   "metadata": {},
   "outputs": [],
   "source": [
    "print(\"hello world\")\n",
    "print(\"another line\")"
   ]
  },
  {
   "cell_type": "code",
   "execution_count": 4,
   "id": "8d980e03",
   "metadata": {
    "tags": [
     "ignore"
    ]
   },
   "outputs": [
    {
     "data": {
      "text/plain": [
       "'ignore'"
      ]
     },
     "execution_count": 4,
     "metadata": {},
     "output_type": "execute_result"
    }
   ],
   "source": [
    "c = 4\n",
    "\"ignore\""
   ]
  }
 ],
 "metadata": {
  "celltoolbar": "Tags",
  "interpreter": {
   "hash": "befcbaf13dc629d2a291d651dbccffd20a6370923c026e54da40b794c2f610da"
  },
  "kernelspec": {
   "display_name": "Python 3.8.10 64-bit ('advanced-ds': venv)",
   "name": "python3"
  },
  "language_info": {
   "codemirror_mode": {
    "name": "ipython",
    "version": 3
   },
   "file_extension": ".py",
   "mimetype": "text/x-python",
   "name": "python",
   "nbconvert_exporter": "python",
   "pygments_lexer": "ipython3",
   "version": "3.8.13 (default, May  8 2022, 17:52:18) \n[Clang 12.0.0 (clang-1200.0.32.29)]"
  }
 },
 "nbformat": 4,
 "nbformat_minor": 5
}